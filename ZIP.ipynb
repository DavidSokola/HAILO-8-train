{
  "nbformat": 4,
  "nbformat_minor": 0,
  "metadata": {
    "colab": {
      "provenance": [],
      "authorship_tag": "ABX9TyNaZYnfQHM2VykxkyiNnrdk",
      "include_colab_link": true
    },
    "kernelspec": {
      "name": "python3",
      "display_name": "Python 3"
    },
    "language_info": {
      "name": "python"
    }
  },
  "cells": [
    {
      "cell_type": "markdown",
      "metadata": {
        "id": "view-in-github",
        "colab_type": "text"
      },
      "source": [
        "<a href=\"https://colab.research.google.com/github/DavidSokola/HAILO-8-train/blob/main/ZIP.ipynb\" target=\"_parent\"><img src=\"https://colab.research.google.com/assets/colab-badge.svg\" alt=\"Open In Colab\"/></a>"
      ]
    },
    {
      "cell_type": "code",
      "execution_count": null,
      "metadata": {
        "id": "59s-QLYkOBXZ"
      },
      "outputs": [],
      "source": [
        "from google.colab import drive\n",
        "import os\n",
        "import zipfile\n",
        "from tqdm import tqdm\n",
        "\n",
        "# Mount Google Drive\n",
        "drive.mount('/content/drive')\n",
        "\n",
        "# Define file/folder paths\n",
        "source_path = \"/content/my_folder\"  # Change this to your folder or file\n",
        "zip_path = \"/content/my_archive.zip\"\n",
        "drive_dest = \"/content/drive/MyDrive/my_archive.zip\"  # Change destination if needed\n",
        "\n",
        "# Function to zip files with a progress bar\n",
        "def zip_with_progress(source_folder, zip_filename):\n",
        "    file_list = []\n",
        "    for root, _, files in os.walk(source_folder):\n",
        "        for file in files:\n",
        "            file_list.append(os.path.join(root, file))\n",
        "\n",
        "    with zipfile.ZipFile(zip_filename, 'w', zipfile.ZIP_DEFLATED) as zipf:\n",
        "        for file in tqdm(file_list, desc=\"Zipping Progress\", unit=\"file\"):\n",
        "            zipf.write(file, os.path.relpath(file, source_folder))\n",
        "\n",
        "# Zip the folder with progress\n",
        "print(\"📦 Zipping files...\")\n",
        "zip_with_progress(source_path, zip_path)\n",
        "print(\"✅ Zipping completed!\")\n",
        "\n",
        "# Move ZIP to Google Drive\n",
        "os.system(f\"mv {zip_path} {drive_dest}\")\n",
        "\n",
        "# Verify if the file exists in Drive\n",
        "if os.path.exists(drive_dest):\n",
        "    print(f\"✅ Zip file successfully uploaded to Google Drive: {drive_dest}\")\n",
        "else:\n",
        "    print(\"❌ Error: File not found in Google Drive\")\n"
      ]
    }
  ]
}