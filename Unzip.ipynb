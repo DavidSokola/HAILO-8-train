{
  "nbformat": 4,
  "nbformat_minor": 0,
  "metadata": {
    "colab": {
      "provenance": [],
      "authorship_tag": "ABX9TyMPCjhOe2cDEK1tSh1gSZFt",
      "include_colab_link": true
    },
    "kernelspec": {
      "name": "python3",
      "display_name": "Python 3"
    },
    "language_info": {
      "name": "python"
    }
  },
  "cells": [
    {
      "cell_type": "markdown",
      "metadata": {
        "id": "view-in-github",
        "colab_type": "text"
      },
      "source": [
        "<a href=\"https://colab.research.google.com/github/DavidSokola/HAILO-8-train/blob/main/Unzip.ipynb\" target=\"_parent\"><img src=\"https://colab.research.google.com/assets/colab-badge.svg\" alt=\"Open In Colab\"/></a>"
      ]
    },
    {
      "cell_type": "code",
      "execution_count": null,
      "metadata": {
        "id": "214pTTEWSp6H"
      },
      "outputs": [],
      "source": [
        "import os\n",
        "import zipfile\n",
        "from tqdm import tqdm\n",
        "\n",
        "# Define paths\n",
        "zip_file_path = \"/content/my_archive.zip\"  # Path to the ZIP file\n",
        "extract_to_path = \"/content/extracted_files\"  # Where to extract\n",
        "exclude_dirs = [\"ignore_this\", \"temp_folder\"]  # ❌ Directories to exclude\n",
        "\n",
        "# Ensure extraction directory exists\n",
        "os.makedirs(extract_to_path, exist_ok=True)\n",
        "\n",
        "# Unzip with progress bar and exclude directories\n",
        "def unzip_with_progress(zip_path, extract_path, exclude_dirs=[]):\n",
        "    with zipfile.ZipFile(zip_path, 'r') as zipf:\n",
        "        file_list = zipf.namelist()\n",
        "\n",
        "        # Filter out excluded directories\n",
        "        file_list = [f for f in file_list if not any(excluded in f for excluded in exclude_dirs)]\n",
        "\n",
        "        for file in tqdm(file_list, desc=\"📂 Extracting\", unit=\"file\"):\n",
        "            zipf.extract(file, extract_path)\n",
        "\n",
        "# Run the function\n",
        "print(\"🚀 Extracting ZIP file...\")\n",
        "unzip_with_progress(zip_file_path, extract_to_path, exclude_dirs)\n",
        "print(f\"✅ Extraction complete! Files are in: {extract_to_path}\")\n"
      ]
    }
  ]
}